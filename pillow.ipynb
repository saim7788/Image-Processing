{
 "cells": [
  {
   "cell_type": "code",
   "execution_count": 3,
   "id": "9c504f52",
   "metadata": {},
   "outputs": [],
   "source": [
    "from PIL import Image,ImageChops,ImageFilter"
   ]
  },
  {
   "cell_type": "code",
   "execution_count": 2,
   "id": "7939d8ce",
   "metadata": {
    "scrolled": true
   },
   "outputs": [],
   "source": [
    "img = Image.open('demo1.jpeg')"
   ]
  },
  {
   "cell_type": "code",
   "execution_count": 4,
   "id": "5dcf244a",
   "metadata": {},
   "outputs": [],
   "source": [
    "img1 = Image.open('demo1.jpeg')\n",
    "img2 = Image.open('demo2.jpg')"
   ]
  },
  {
   "cell_type": "code",
   "execution_count": 17,
   "id": "a22a993f",
   "metadata": {},
   "outputs": [],
   "source": [
    "diff = ImageChops.difference(img1,img2)\n",
    "if diff.getbbox():\n",
    "    diff.show()"
   ]
  },
  {
   "cell_type": "code",
   "execution_count": 25,
   "id": "32661164",
   "metadata": {},
   "outputs": [],
   "source": [
    "image = Image.new(mode=\"RGB\",size=(400,400),color=(100,153,200))"
   ]
  },
  {
   "cell_type": "code",
   "execution_count": 26,
   "id": "38a2d86d",
   "metadata": {},
   "outputs": [],
   "source": [
    "image.show()"
   ]
  },
  {
   "cell_type": "code",
   "execution_count": 32,
   "id": "36deebf2",
   "metadata": {},
   "outputs": [],
   "source": [
    "image.save('test.jpg')"
   ]
  },
  {
   "cell_type": "code",
   "execution_count": 31,
   "id": "e94df567",
   "metadata": {
    "scrolled": true
   },
   "outputs": [
    {
     "name": "stdout",
     "output_type": "stream",
     "text": [
      "JPEG\n"
     ]
    }
   ],
   "source": [
    "print(img1.format)"
   ]
  },
  {
   "cell_type": "code",
   "execution_count": 15,
   "id": "23a46ab8",
   "metadata": {},
   "outputs": [],
   "source": [
    "img2 = img2.crop((1,1,2,3))"
   ]
  },
  {
   "cell_type": "code",
   "execution_count": 19,
   "id": "ee5ce66f",
   "metadata": {},
   "outputs": [],
   "source": [
    "img2 = img2.rotate(45)"
   ]
  },
  {
   "cell_type": "code",
   "execution_count": 20,
   "id": "84e32548",
   "metadata": {},
   "outputs": [],
   "source": [
    "img2.show()"
   ]
  },
  {
   "cell_type": "code",
   "execution_count": 21,
   "id": "41721318",
   "metadata": {},
   "outputs": [
    {
     "name": "stdout",
     "output_type": "stream",
     "text": [
      "(279, 181)\n",
      "JPEG\n"
     ]
    }
   ],
   "source": [
    "print(img.size)\n",
    "print(img.format)"
   ]
  },
  {
   "cell_type": "code",
   "execution_count": 25,
   "id": "911c3429",
   "metadata": {},
   "outputs": [],
   "source": [
    "from PIL.ImageFilter import (\n",
    "     BLUR, CONTOUR, DETAIL, EDGE_ENHANCE, EDGE_ENHANCE_MORE,\n",
    "   EMBOSS, FIND_EDGES, SMOOTH, SMOOTH_MORE, SHARPEN\n",
    ")\n",
    "\n",
    "img = Image.open('demo1.jpeg')\n",
    "\n",
    "img1 = img.filter(SHARPEN)\n",
    "img1.show()"
   ]
  },
  {
   "cell_type": "code",
   "execution_count": 5,
   "id": "8d74e0ae",
   "metadata": {},
   "outputs": [],
   "source": [
    "from PIL import ImageEnhance\n",
    "curr_bri = ImageEnhance.Brightness(img1)\n",
    "new_bri = 4.5\n",
    "img_brightened =curr_bri.enhance(new_bri)\n",
    "img_brightened.show()"
   ]
  },
  {
   "cell_type": "code",
   "execution_count": 8,
   "id": "8adaca43",
   "metadata": {},
   "outputs": [],
   "source": [
    "from PIL import Image\n",
    "img = Image.open('demo1.jpeg')\n",
    "img.save('demo_quality.jpg',quality=50)"
   ]
  },
  {
   "cell_type": "code",
   "execution_count": 19,
   "id": "099ac644",
   "metadata": {},
   "outputs": [],
   "source": [
    "from PIL import Image as im\n",
    "img = im.open('demo1.jpeg')\n",
    "img1 = img.split()[0]\n",
    "img1.show()\n",
    "r,g,b = img.split()\n",
    "img1 = Image.merge(\"RGB\",(g,b,r))\n",
    "img1.show()"
   ]
  },
  {
   "cell_type": "code",
   "execution_count": 22,
   "id": "fd946f25",
   "metadata": {},
   "outputs": [
    {
     "ename": "UnidentifiedImageError",
     "evalue": "cannot identify image file '1.avif'",
     "output_type": "error",
     "traceback": [
      "\u001b[1;31m---------------------------------------------------------------------------\u001b[0m",
      "\u001b[1;31mUnidentifiedImageError\u001b[0m                    Traceback (most recent call last)",
      "Cell \u001b[1;32mIn[22], line 2\u001b[0m\n\u001b[0;32m      1\u001b[0m \u001b[38;5;28;01mfrom\u001b[39;00m \u001b[38;5;21;01mPIL\u001b[39;00m \u001b[38;5;28;01mimport\u001b[39;00m Image \n\u001b[1;32m----> 2\u001b[0m img \u001b[38;5;241m=\u001b[39m Image\u001b[38;5;241m.\u001b[39mopen(\u001b[38;5;124m'\u001b[39m\u001b[38;5;124m1.avif\u001b[39m\u001b[38;5;124m'\u001b[39m)\n",
      "File \u001b[1;32m~\\anaconda3\\Lib\\site-packages\\PIL\\Image.py:3283\u001b[0m, in \u001b[0;36mopen\u001b[1;34m(fp, mode, formats)\u001b[0m\n\u001b[0;32m   3281\u001b[0m     warnings\u001b[38;5;241m.\u001b[39mwarn(message)\n\u001b[0;32m   3282\u001b[0m msg \u001b[38;5;241m=\u001b[39m \u001b[38;5;124m\"\u001b[39m\u001b[38;5;124mcannot identify image file \u001b[39m\u001b[38;5;132;01m%r\u001b[39;00m\u001b[38;5;124m\"\u001b[39m \u001b[38;5;241m%\u001b[39m (filename \u001b[38;5;28;01mif\u001b[39;00m filename \u001b[38;5;28;01melse\u001b[39;00m fp)\n\u001b[1;32m-> 3283\u001b[0m \u001b[38;5;28;01mraise\u001b[39;00m UnidentifiedImageError(msg)\n",
      "\u001b[1;31mUnidentifiedImageError\u001b[0m: cannot identify image file '1.avif'"
     ]
    }
   ],
   "source": [
    "from PIL import Image \n",
    "img = Image.open('1.avif')"
   ]
  }
 ],
 "metadata": {
  "kernelspec": {
   "display_name": "Python 3 (ipykernel)",
   "language": "python",
   "name": "python3"
  },
  "language_info": {
   "codemirror_mode": {
    "name": "ipython",
    "version": 3
   },
   "file_extension": ".py",
   "mimetype": "text/x-python",
   "name": "python",
   "nbconvert_exporter": "python",
   "pygments_lexer": "ipython3",
   "version": "3.11.5"
  }
 },
 "nbformat": 4,
 "nbformat_minor": 5
}
